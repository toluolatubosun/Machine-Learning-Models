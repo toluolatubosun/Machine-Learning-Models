{
 "cells": [
  {
   "cell_type": "code",
   "execution_count": 1,
   "metadata": {},
   "outputs": [],
   "source": [
    "import pandas as pd\n",
    "import numpy as np\n",
    "\n",
    "from sklearn.model_selection import train_test_split\n",
    "from sklearn.linear_model import LinearRegression\n",
    "\n",
    "import pickle\n",
    "\n",
    "import matplotlib.pyplot as plt\n",
    "from scipy import stats"
   ]
  },
  {
   "cell_type": "code",
   "execution_count": 3,
   "metadata": {},
   "outputs": [
    {
     "data": {
      "text/plain": [
       "0.9149431310327248"
      ]
     },
     "execution_count": 3,
     "metadata": {},
     "output_type": "execute_result"
    }
   ],
   "source": [
    "data = pd.read_csv(\"student-mat.csv\", sep=\";\")\n",
    "\n",
    "data = data[[\"G1\", \"G2\", \"G3\", \"absences\", \"failures\", \"studytime\"]]\n",
    "\n",
    "predict = \"G3\"\n",
    "\n",
    "# train 100 times until best model is gotten\n",
    "best = 0\n",
    "for _ in range(100):\n",
    "    X = data.drop(columns=[predict])\n",
    "    y = data[predict]\n",
    "\n",
    "    X_train, X_test, y_train, y_test = train_test_split(X, y)\n",
    "    model = LinearRegression()\n",
    "    model.fit(X_train, y_train)\n",
    "\n",
    "    score = model.score(X_test, y_test)\n",
    "    if score > best :\n",
    "        best = score\n",
    "        pickle.dump(model, open(\"studentmodel.pickle\", \"wb\"))\n",
    "best"
   ]
  },
  {
   "cell_type": "code",
   "execution_count": 4,
   "metadata": {},
   "outputs": [],
   "source": [
    "# load saved model and make predictions\n",
    "model = pickle.load(open(\"studentmodel.pickle\", \"rb\"))\n",
    "predictions = model.predict(X_test)\n",
    "\n",
    "# for x in range(len(predictions)):\n",
    "    # print(predictions[x], y_test[x]) "
   ]
  },
  {
   "cell_type": "code",
   "execution_count": 5,
   "metadata": {},
   "outputs": [
    {
     "data": {
      "text/plain": [
       "[<matplotlib.lines.Line2D at 0x23ef60b7808>]"
      ]
     },
     "execution_count": 5,
     "metadata": {},
     "output_type": "execute_result"
    },
    {
     "data": {
      "image/png": "[encoded data removed]",
      "text/plain": [
       "<Figure size 432x288 with 1 Axes>"
      ]
     },
     "metadata": {
      "needs_background": "light"
     },
     "output_type": "display_data"
    }
   ],
   "source": [
    "# plot a graph to show relationship between G3 and other variables \n",
    "x_value = \"G2\"\n",
    "\n",
    "slope, intercept, r, p, std_err = stats.linregress(data[x_value], y)\n",
    "\n",
    "def line(x):\n",
    "    return slope * x + intercept\n",
    "\n",
    "graph_y = list(map(line, data[x_value]))\n",
    "\n",
    "plt.scatter(data[x_value], y)\n",
    "plt.plot(data[x_value], graph_y)"
   ]
  },
  {
   "cell_type": "code",
   "execution_count": null,
   "metadata": {},
   "outputs": [],
   "source": []
  }
 ],
 "metadata": {
  "kernelspec": {
   "display_name": "Python 3",
   "language": "python",
   "name": "python3"
  },
  "language_info": {
   "codemirror_mode": {
    "name": "ipython",
    "version": 3
   },
   "file_extension": ".py",
   "mimetype": "text/x-python",
   "name": "python",
   "nbconvert_exporter": "python",
   "pygments_lexer": "ipython3",
   "version": "3.7.6"
  }
 },
 "nbformat": 4,
 "nbformat_minor": 4
}
