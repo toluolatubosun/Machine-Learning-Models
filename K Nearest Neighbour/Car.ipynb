{
 "cells": [
  {
   "cell_type": "code",
   "execution_count": 1,
   "metadata": {},
   "outputs": [],
   "source": [
    "import pandas as pd\n",
    "import numpy as np\n",
    "\n",
    "from sklearn.model_selection import train_test_split\n",
    "from sklearn.preprocessing import LabelEncoder\n",
    "\n",
    "from sklearn.neighbors import KNeighborsClassifier"
   ]
  },
  {
   "cell_type": "code",
   "execution_count": 2,
   "metadata": {},
   "outputs": [],
   "source": [
    "data = pd.read_csv(\"car.data\", sep=\",\")\n",
    "\n",
    "le = LabelEncoder()\n",
    "data[\"buying\"] = le.fit_transform(data[\"buying\"])\n",
    "data[\"maint\"] = le.fit_transform(data[\"maint\"])\n",
    "data[\"door\"] = le.fit_transform(data[\"door\"])\n",
    "data[\"persons\"] = le.fit_transform(data[\"persons\"])\n",
    "data[\"lug_boot\"] = le.fit_transform(data[\"lug_boot\"])\n",
    "data[\"safety\"] = le.fit_transform(data[\"safety\"])\n",
    "data[\"class\"] = le.fit_transform(data[\"class\"])\n",
    "\n",
    "X = data.drop(columns=[\"class\"])\n",
    "y = data[\"class\"]"
   ]
  },
  {
   "cell_type": "code",
   "execution_count": 3,
   "metadata": {},
   "outputs": [
    {
     "data": {
      "text/plain": [
       "0.9653179190751445"
      ]
     },
     "execution_count": 3,
     "metadata": {},
     "output_type": "execute_result"
    }
   ],
   "source": [
    "x_train, x_test, y_train, y_test = train_test_split(X, y, test_size = 0.1)\n",
    "\n",
    "model = KNeighborsClassifier(n_neighbors=9)\n",
    "\n",
    "model.fit(x_train, y_train)\n",
    "score = model.score(x_test, y_test)\n",
    "score"
   ]
  },
  {
   "cell_type": "code",
   "execution_count": null,
   "metadata": {},
   "outputs": [],
   "source": []
  }
 ],
 "metadata": {
  "kernelspec": {
   "display_name": "Python 3",
   "language": "python",
   "name": "python3"
  },
  "language_info": {
   "codemirror_mode": {
    "name": "ipython",
    "version": 3
   },
   "file_extension": ".py",
   "mimetype": "text/x-python",
   "name": "python",
   "nbconvert_exporter": "python",
   "pygments_lexer": "ipython3",
   "version": "3.7.6"
  }
 },
 "nbformat": 4,
 "nbformat_minor": 4
}
